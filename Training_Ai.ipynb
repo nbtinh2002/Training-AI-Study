{
  "nbformat": 4,
  "nbformat_minor": 0,
  "metadata": {
    "colab": {
      "provenance": [],
      "gpuType": "T4",
      "private_outputs": true
    },
    "kernelspec": {
      "name": "python3",
      "display_name": "Python 3"
    },
    "language_info": {
      "name": "python"
    },
    "gpuClass": "standard",
    "accelerator": "GPU"
  },
  "cells": [
    {
      "cell_type": "code",
      "source": [
        "!pip install mmcls\n",
        "# Clone mmcls repository and checkout to the 1.x branch\n",
        "!git clone -b 1.x https://github.com/open-mmlab/mmclassification.git\n",
        "%cd mmclassification/\n",
        "# Install MMClassification from source by mim\n",
        "!pip install openmim\n",
        "!mim install -e . \n",
        "\n",
        "!pip install timm"
      ],
      "metadata": {
        "id": "iEP2a2r44A-1"
      },
      "execution_count": null,
      "outputs": []
    },
    {
      "cell_type": "code",
      "source": [
        "import mmcls\n",
        "from PIL import Image\n",
        "import os\n",
        "import shutil\n",
        "import pandas as pd\n",
        "import torch.optim as optim\n",
        "import torch.nn as nn\n",
        "import torch.optim as optim\n",
        "import torch.optim.lr_scheduler as lr_scheduler\n",
        "import torch, torchvision\n",
        "print(torch.__version__)\n",
        "print(torch.cuda.is_available())"
      ],
      "metadata": {
        "id": "Z3wlIfpBAtVx"
      },
      "execution_count": null,
      "outputs": []
    },
    {
      "cell_type": "code",
      "source": [
        "from google.colab import drive\n",
        "drive.mount('/content/drive')"
      ],
      "metadata": {
        "id": "Iklc1R65MaHG"
      },
      "execution_count": null,
      "outputs": []
    },
    {
      "cell_type": "code",
      "source": [
        "# đường dẫn đến thư mục chứa ảnh\n",
        "train_dir = '/content/drive/MyDrive/Colab/ISIC2018_Task3_Training_Input/ISIC2018_Task3_Training_Input'\n",
        "\n",
        "# đường dẫn đến file csv chứa nhãn\n",
        "label_file = '/content/drive/MyDrive/Colab/ISIC2018_Task3_Training_GroundTruth/ISIC2018_Task3_Training_GroundTruth.csv'\n",
        "\n",
        "# đường dẫn đến thư mục train sẽ được tạo ra\n",
        "trains_dir = '/content/drive/MyDrive/Colab/train'\n",
        "\n",
        "\n",
        "# đọc file csv chứa nhãn\n",
        "labels_df = pd.read_csv(label_file)\n",
        "\n",
        "# lặp qua các dòng trong file csv và sao chép ảnh vào thư mục train tương ứng\n",
        "for index, row in labels_df.iterrows():\n",
        "    img_filename = row['image'] + '.jpg'\n",
        "    img_label = row.drop('image').astype(int).idxmax()\n",
        "\n",
        "    label_dir = os.path.join(trains_dir, img_label)\n",
        "    if not os.path.exists(label_dir):\n",
        "        os.makedirs(label_dir)\n",
        "    src_path = os.path.join(train_dir, img_filename)\n",
        "    dst_path = os.path.join(label_dir, img_filename)\n",
        "    shutil.copyfile(src_path, dst_path)"
      ],
      "metadata": {
        "id": "s0X-vUqjv21M"
      },
      "execution_count": null,
      "outputs": []
    },
    {
      "cell_type": "code",
      "source": [
        "# đường dẫn đến thư mục chứa ảnh\n",
        "valid_dir = '/content/drive/MyDrive/Colab/ISIC2018_Task3_Validation_Input'\n",
        "\n",
        "# đường dẫn đến file csv chứa nhãn\n",
        "label_file = '/content/drive/MyDrive/Colab/ISIC2018_Task3_Validation_GroundTruth/ISIC2018_Task3_Validation_GroundTruth.csv'\n",
        "\n",
        "# đường dẫn đến thư mục sẽ được tạo ra\n",
        "valids_dir = '/content/drive/MyDrive/Colab/valid'\n",
        "\n",
        "\n",
        "# đọc file csv chứa nhãn\n",
        "labels_df = pd.read_csv(label_file)\n",
        "\n",
        "# lặp qua các dòng trong file csv và sao chép ảnh vào thư mục train tương ứng\n",
        "for index, row in labels_df.iterrows():\n",
        "    img_filename = row['image'] + '.jpg'\n",
        "    img_label = row.drop('image').astype(int).idxmax()\n",
        "\n",
        "    label_dir = os.path.join(valids_dir, img_label)\n",
        "    if not os.path.exists(label_dir):\n",
        "        os.makedirs(label_dir)\n",
        "    src_path = os.path.join(valid_dir, img_filename)\n",
        "    dst_path = os.path.join(label_dir, img_filename)\n",
        "    shutil.copyfile(src_path, dst_path)"
      ],
      "metadata": {
        "id": "PgEsQsHEPV4c"
      },
      "execution_count": null,
      "outputs": []
    },
    {
      "cell_type": "code",
      "source": [
        "# đường dẫn đến thư mục chứa ảnh\n",
        "test_dir = '/content/drive/MyDrive/Colab/ISIC2018_Task3_Test_Input'\n",
        "\n",
        "# đường dẫn đến file csv chứa nhãn\n",
        "label_file = '/content/drive/MyDrive/Colab/ISIC2018_Task3_Test_GroundTruth/ISIC2018_Task3_Test_GroundTruth.csv'\n",
        "\n",
        "# đường dẫn đến thư mục sẽ được tạo ra\n",
        "tests_dir = '/content/drive/MyDrive/Colab/test'\n",
        "\n",
        "\n",
        "# đọc file csv chứa nhãn\n",
        "labels_df = pd.read_csv(label_file)\n",
        "\n",
        "# lặp qua các dòng trong file csv và sao chép ảnh vào thư mục train tương ứng\n",
        "for index, row in labels_df.iterrows():\n",
        "    img_filename = row['image'] + '.jpg'\n",
        "    img_label = row.drop('image').astype(int).idxmax()\n",
        "\n",
        "    label_dir = os.path.join(tests_dir, img_label)\n",
        "    if not os.path.exists(label_dir):\n",
        "        os.makedirs(label_dir)\n",
        "    src_path = os.path.join(test_dir, img_filename)\n",
        "    dst_path = os.path.join(label_dir, img_filename)\n",
        "    shutil.copyfile(src_path, dst_path)"
      ],
      "metadata": {
        "id": "uGFHqm5JUS1j"
      },
      "execution_count": null,
      "outputs": []
    },
    {
      "cell_type": "code",
      "source": [
        "!python /content/mmclassification/tools/train.py /content/drive/MyDrive/Colab/config.py\n"
      ],
      "metadata": {
        "id": "KayZGSj_Y3-7"
      },
      "execution_count": null,
      "outputs": []
    },
    {
      "cell_type": "code",
      "source": [
        "\n",
        "!python tools/train.py \\\n",
        "   /content/drive/MyDrive/Colab/config.py\n",
        "  --work-dir /content/drive/MyDrive/Colab"
      ],
      "metadata": {
        "id": "fer4PMugWJsp"
      },
      "execution_count": null,
      "outputs": []
    },
    {
      "cell_type": "code",
      "source": [
        "!python tools/test.py /content/drive/MyDrive/Colab/config.py /content/drive/MyDrive/Colab/work_dir/epoch_2.pth --out result.pkl"
      ],
      "metadata": {
        "id": "Lg0mPAUwfoDz"
      },
      "execution_count": null,
      "outputs": []
    },
    {
      "cell_type": "code",
      "source": [
        "import mmengine\n",
        "\n",
        "results = mmengine.load(\"result.pkl\")\n",
        "# Output the first samples' ground truth and prediction.\n",
        "print('Ground truth:', results[0]['gt_label'])\n",
        "print('Prediction:', results[0]['pred_label'])"
      ],
      "metadata": {
        "id": "XwKl8dblf4s8"
      },
      "execution_count": null,
      "outputs": []
    },
    {
      "cell_type": "code",
      "source": [
        "!python demo/image_demo.py đường dẫn đến 1 hình trong file2 /content/drive/MyDrive/Colab Notebooks/config.py --checkpoint /content/drive/MyDrive/Colab Notebooks/work_dir/epoch_2.pth"
      ],
      "metadata": {
        "id": "7xXSxvBMf7rE"
      },
      "execution_count": null,
      "outputs": []
    }
  ]
}